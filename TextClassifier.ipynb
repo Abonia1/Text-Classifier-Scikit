{
 "cells": [
  {
   "cell_type": "markdown",
   "metadata": {},
   "source": [
    "# Text Classifier for Category Detection"
   ]
  },
  {
   "cell_type": "code",
   "execution_count": 1,
   "metadata": {},
   "outputs": [],
   "source": [
    "import sklearn\n",
    "import numpy as np\n",
    "from glob import glob\n",
    "from sklearn import datasets\n",
    "from sklearn.model_selection import train_test_split\n",
    "from sklearn.feature_extraction.text import CountVectorizer\n",
    "from sklearn.feature_extraction.text import TfidfTransformer\n",
    "from sklearn.linear_model import SGDClassifier\n",
    "from sklearn import metrics\n",
    "from sklearn.pipeline import Pipeline\n",
    "from sklearn.ensemble import VotingClassifier"
   ]
  },
  {
   "cell_type": "code",
   "execution_count": 2,
   "metadata": {},
   "outputs": [],
   "source": [
    "categories=['ABSENCES','AVANTAGES',\"DEPART DE L'ENTREPRISE\",'OUTILS RH','PAIE, REMUNERATION ET FRAIS PROFESSIONNELS','THEME AUTRE','DONNEES PERSONNELLES','FORMATION','INTERIM  STAGES  EXTERNES','MUTUELLE  PREVOYANCE','PARCOURS PROFESSIONNEL','TEMPS DE TRAVAIL']"
   ]
  },
  {
   "cell_type": "code",
   "execution_count": 3,
   "metadata": {},
   "outputs": [
    {
     "data": {
      "text/plain": [
       "556"
      ]
     },
     "execution_count": 3,
     "metadata": {},
     "output_type": "execute_result"
    }
   ],
   "source": [
    "docs_to_train = sklearn.datasets.load_files(\"document\", \n",
    "    description=None, categories=categories, \n",
    "    load_content=True, encoding='utf-8', shuffle=True, random_state=42)\n",
    "docs_to_train .target_names\n",
    "#len(docs_to_train.data)\n",
    "len(docs_to_train.filenames)\n"
   ]
  },
  {
   "cell_type": "code",
   "execution_count": 4,
   "metadata": {},
   "outputs": [
    {
     "name": "stdout",
     "output_type": "stream",
     "text": [
      "\r\n",
      "TEMPS DE TRAVAIL\n"
     ]
    }
   ],
   "source": [
    "print(\"\\n\".join(docs_to_train.data[0].split(\"\\n\")[:1]))\n",
    "print(docs_to_train.target_names[docs_to_train.target[0]])"
   ]
  },
  {
   "cell_type": "code",
   "execution_count": 5,
   "metadata": {},
   "outputs": [],
   "source": [
    "X_train, X_test, y_train, y_test = train_test_split(docs_to_train.data,\n",
    "    docs_to_train.target, test_size=0.3,random_state=4)\n",
    "#print(X_train)"
   ]
  },
  {
   "cell_type": "code",
   "execution_count": 6,
   "metadata": {},
   "outputs": [
    {
     "name": "stdout",
     "output_type": "stream",
     "text": [
      "\n",
      "Applying the classifier...\n",
      "\n"
     ]
    }
   ],
   "source": [
    "# Construct the classifier pipeline using a SGDClassifier algorithm\n",
    "\n",
    "print ('\\nApplying the classifier...\\n')\n",
    "\n",
    "text_clf = Pipeline([('vect', CountVectorizer(stop_words='english')),\n",
    "\n",
    "                     ('tfidf', TfidfTransformer(use_idf=True)),\n",
    "\n",
    "                     ('clf', SGDClassifier(loss='hinge', penalty='l2',\n",
    "\n",
    "                                           alpha=1e-3, random_state=42, verbose=1)),\n",
    "\n",
    "])"
   ]
  },
  {
   "cell_type": "code",
   "execution_count": null,
   "metadata": {},
   "outputs": [],
   "source": [
    "#optional test-->replaced in pipeline\n",
    "count_vect = CountVectorizer(stop_words='english')\n",
    "X_train_counts = count_vect.fit_transform(raw_documents=X_train)\n",
    "\n",
    "tfidf_transformer = TfidfTransformer(use_idf=True)\n",
    "X_train_tfidf = tfidf_transformer.fit_transform(X_train_counts)\n",
    "X_train_counts.shape\n",
    "#print(X_train_counts)"
   ]
  },
  {
   "cell_type": "code",
   "execution_count": null,
   "metadata": {},
   "outputs": [],
   "source": [
    "#optional test-->replaced in pipeline\n",
    "count_vect = CountVectorizer(stop_words='english')\n",
    "X_test_counts = count_vect.fit_transform(raw_documents=X_test)\n",
    "\n",
    "tfidf_transformer = TfidfTransformer(use_idf=True)\n",
    "X_test_tfidf = tfidf_transformer.fit_transform(X_test_counts)\n",
    "X_train_tfidf.shape"
   ]
  },
  {
   "cell_type": "code",
   "execution_count": 7,
   "metadata": {},
   "outputs": [
    {
     "name": "stderr",
     "output_type": "stream",
     "text": [
      "C:\\Users\\asojasingarayar\\AppData\\Local\\Continuum\\anaconda\\lib\\site-packages\\sklearn\\linear_model\\stochastic_gradient.py:128: FutureWarning: max_iter and tol parameters have been added in <class 'sklearn.linear_model.stochastic_gradient.SGDClassifier'> in 0.19. If both are left unset, they default to max_iter=5 and tol=None. If tol is not None, max_iter defaults to max_iter=1000. From 0.21, default max_iter will be 1000, and default tol will be 1e-3.\n",
      "  \"and default tol will be 1e-3.\" % type(self), FutureWarning)\n"
     ]
    },
    {
     "name": "stdout",
     "output_type": "stream",
     "text": [
      "-- Epoch 1\n",
      "Norm: 13.83, NNZs: 18590, Bias: -0.138835, T: 389, Avg. loss: 0.135079\n",
      "Total training time: 0.00 seconds.\n",
      "-- Epoch 2\n",
      "Norm: 10.66, NNZs: 21644, Bias: -0.124033, T: 778, Avg. loss: 0.011291\n",
      "Total training time: 0.00 seconds.\n",
      "-- Epoch 3\n",
      "Norm: 9.52, NNZs: 23763, Bias: -0.142228, T: 1167, Avg. loss: 0.006531\n",
      "Total training time: 0.02 seconds.\n",
      "-- Epoch 4\n",
      "Norm: 9.58, NNZs: 27017, Bias: -0.155591, T: 1556, Avg. loss: 0.007783\n",
      "Total training time: 0.02 seconds.\n",
      "-- Epoch 5\n",
      "Norm: 8.86, NNZs: 28231, Bias: -0.160490, T: 1945, Avg. loss: 0.003658\n",
      "Total training time: 0.03 seconds.\n",
      "-- Epoch 1\n",
      "Norm: 10.87, NNZs: 15136, Bias: -0.144515, T: 389, Avg. loss: 0.101957\n",
      "Total training time: 0.00 seconds.\n",
      "-- Epoch 2\n",
      "Norm: 9.79, NNZs: 19449, Bias: -0.184134, T: 778, Avg. loss: 0.012752\n",
      "Total training time: 0.02 seconds.\n",
      "-- Epoch 3\n",
      "Norm: 8.61, NNZs: 21996, Bias: -0.192233, T: 1167, Avg. loss: 0.003491\n",
      "Total training time: 0.02 seconds.\n",
      "-- Epoch 4\n",
      "Norm: 8.10, NNZs: 23547, Bias: -0.211502, T: 1556, Avg. loss: 0.004478\n",
      "Total training time: 0.03 seconds.\n",
      "-- Epoch 5\n",
      "Norm: 7.79, NNZs: 25245, Bias: -0.216303, T: 1945, Avg. loss: 0.004354\n",
      "Total training time: 0.03 seconds.\n",
      "-- Epoch 1\n",
      "Norm: 7.98, NNZs: 11275, Bias: -0.135997, T: 389, Avg. loss: 0.077935\n",
      "Total training time: 0.00 seconds.\n",
      "-- Epoch 2\n",
      "Norm: 7.95, NNZs: 14292, Bias: -0.193348, T: 778, Avg. loss: 0.020596\n",
      "Total training time: 0.02 seconds.\n",
      "-- Epoch 3\n",
      "Norm: 6.83, NNZs: 15789, Bias: -0.201030, T: 1167, Avg. loss: 0.009344\n",
      "Total training time: 0.02 seconds.\n",
      "-- Epoch 4\n",
      "Norm: 6.89, NNZs: 18107, Bias: -0.207780, T: 1556, Avg. loss: 0.009175\n",
      "Total training time: 0.02 seconds.\n",
      "-- Epoch 5\n",
      "Norm: 6.86, NNZs: 20541, Bias: -0.223520, T: 1945, Avg. loss: 0.007074\n",
      "Total training time: 0.04 seconds.\n",
      "-- Epoch 1\n",
      "Norm: 10.63, NNZs: 14404, Bias: -0.109300, T: 389, Avg. loss: 0.087755\n",
      "Total training time: 0.00 seconds.\n",
      "-- Epoch 2\n",
      "Norm: 8.65, NNZs: 16658, Bias: -0.123387, T: 778, Avg. loss: 0.010491\n",
      "Total training time: 0.00 seconds.\n",
      "-- Epoch 3\n",
      "Norm: 8.35, NNZs: 19548, Bias: -0.132390, T: 1167, Avg. loss: 0.013585\n",
      "Total training time: 0.00 seconds.\n",
      "-- Epoch 4\n",
      "Norm: 8.15, NNZs: 21696, Bias: -0.145962, T: 1556, Avg. loss: 0.006380\n",
      "Total training time: 0.02 seconds.\n",
      "-- Epoch 5\n",
      "Norm: 7.65, NNZs: 22901, Bias: -0.151129, T: 1945, Avg. loss: 0.005892\n",
      "Total training time: 0.02 seconds.\n",
      "-- Epoch 1\n",
      "Norm: 6.97, NNZs: 8349, Bias: -0.100833, T: 389, Avg. loss: 0.028047\n",
      "Total training time: 0.02 seconds.\n",
      "-- Epoch 2\n",
      "Norm: 5.31, NNZs: 9451, Bias: -0.108917, T: 778, Avg. loss: 0.004088\n",
      "Total training time: 0.02 seconds.\n",
      "-- Epoch 3\n",
      "Norm: 4.64, NNZs: 10226, Bias: -0.117683, T: 1167, Avg. loss: 0.003834\n",
      "Total training time: 0.02 seconds.\n",
      "-- Epoch 4\n",
      "Norm: 4.76, NNZs: 11631, Bias: -0.129287, T: 1556, Avg. loss: 0.002108\n",
      "Total training time: 0.03 seconds.\n",
      "-- Epoch 5\n",
      "Norm: 4.44, NNZs: 12612, Bias: -0.124125, T: 1945, Avg. loss: 0.002318\n",
      "Total training time: 0.03 seconds.\n",
      "-- Epoch 1\n",
      "Norm: 5.61, NNZs: 6398, Bias: -0.105329, T: 389, Avg. loss: 0.022768\n",
      "Total training time: 0.00 seconds.\n",
      "-- Epoch 2\n",
      "Norm: 4.58, NNZs: 8426, Bias: -0.121187, T: 778, Avg. loss: 0.004888\n",
      "Total training time: 0.02 seconds.\n",
      "-- Epoch 3\n",
      "Norm: 4.82, NNZs: 10105, Bias: -0.139689, T: 1167, Avg. loss: 0.003815\n",
      "Total training time: 0.02 seconds.\n",
      "-- Epoch 4\n",
      "Norm: 4.01, NNZs: 10691, Bias: -0.140129, T: 1556, Avg. loss: 0.001603\n",
      "Total training time: 0.02 seconds.\n",
      "-- Epoch 5\n",
      "Norm: 4.29, NNZs: 11543, Bias: -0.150779, T: 1945, Avg. loss: 0.002530\n",
      "Total training time: 0.04 seconds.\n",
      "-- Epoch 1\n",
      "Norm: 6.56, NNZs: 8068, Bias: -0.112250, T: 389, Avg. loss: 0.035180\n",
      "Total training time: 0.00 seconds.\n",
      "-- Epoch 2\n",
      "Norm: 5.87, NNZs: 10525, Bias: -0.138156, T: 778, Avg. loss: 0.004134\n",
      "Total training time: 0.01 seconds.\n",
      "-- Epoch 3\n",
      "Norm: 5.70, NNZs: 12498, Bias: -0.146778, T: 1167, Avg. loss: 0.002457\n",
      "Total training time: 0.01 seconds.\n",
      "-- Epoch 4\n",
      "Norm: 5.37, NNZs: 13502, Bias: -0.153240, T: 1556, Avg. loss: 0.001453\n",
      "Total training time: 0.02 seconds.\n",
      "-- Epoch 5\n",
      "Norm: 4.89, NNZs: 14497, Bias: -0.168717, T: 1945, Avg. loss: 0.001096\n",
      "Total training time: 0.03 seconds.\n",
      "-- Epoch 1\n",
      "Norm: 10.66, NNZs: 15212, Bias: -0.128566, T: 389, Avg. loss: 0.089637\n",
      "Total training time: 0.00 seconds.\n",
      "-- Epoch 2\n",
      "Norm: 9.60, NNZs: 19104, Bias: -0.143032, T: 778, Avg. loss: 0.011443\n",
      "Total training time: 0.01 seconds.\n",
      "-- Epoch 3\n",
      "Norm: 8.58, NNZs: 20759, Bias: -0.170782, T: 1167, Avg. loss: 0.007773\n",
      "Total training time: 0.02 seconds.\n",
      "-- Epoch 4\n",
      "Norm: 7.83, NNZs: 22316, Bias: -0.183860, T: 1556, Avg. loss: 0.003808\n",
      "Total training time: 0.02 seconds.\n",
      "-- Epoch 5\n",
      "Norm: 7.69, NNZs: 23719, Bias: -0.198782, T: 1945, Avg. loss: 0.006519\n",
      "Total training time: 0.03 seconds.\n",
      "-- Epoch 1\n",
      "Norm: 11.81, NNZs: 17797, Bias: -0.130848, T: 389, Avg. loss: 0.099355\n",
      "Total training time: 0.00 seconds.\n",
      "-- Epoch 2\n",
      "Norm: 10.00, NNZs: 21253, Bias: -0.148591, T: 778, Avg. loss: 0.010603\n",
      "Total training time: 0.01 seconds.\n",
      "-- Epoch 3\n",
      "Norm: 8.42, NNZs: 22975, Bias: -0.165464, T: 1167, Avg. loss: 0.003633\n",
      "Total training time: 0.02 seconds.\n",
      "-- Epoch 4\n",
      "Norm: 8.24, NNZs: 25443, Bias: -0.172037, T: 1556, Avg. loss: 0.008803\n",
      "Total training time: 0.02 seconds.\n",
      "-- Epoch 5\n",
      "Norm: 7.76, NNZs: 27266, Bias: -0.177399, T: 1945, Avg. loss: 0.003712\n",
      "Total training time: 0.02 seconds.\n",
      "-- Epoch 1\n",
      "Norm: 10.40, NNZs: 15746, Bias: -0.129174, T: 389, Avg. loss: 0.099072\n",
      "Total training time: 0.01 seconds.\n",
      "-- Epoch 2\n",
      "Norm: 8.95, NNZs: 19764, Bias: -0.148894, T: 778, Avg. loss: 0.019478\n",
      "Total training time: 0.01 seconds.\n",
      "-- Epoch 3\n",
      "Norm: 8.30, NNZs: 22354, Bias: -0.147373, T: 1167, Avg. loss: 0.016150\n",
      "Total training time: 0.02 seconds.\n",
      "-- Epoch 4\n",
      "Norm: 8.01, NNZs: 24425, Bias: -0.159820, T: 1556, Avg. loss: 0.010155\n",
      "Total training time: 0.03 seconds.\n",
      "-- Epoch 5\n",
      "Norm: 7.80, NNZs: 25228, Bias: -0.168966, T: 1945, Avg. loss: 0.010111\n",
      "Total training time: 0.03 seconds.\n",
      "-- Epoch 1\n",
      "Norm: 8.76, NNZs: 11099, Bias: -0.103517, T: 389, Avg. loss: 0.057124\n",
      "Total training time: 0.01 seconds.\n",
      "-- Epoch 2\n",
      "Norm: 8.07, NNZs: 13583, Bias: -0.120139, T: 778, Avg. loss: 0.005691\n",
      "Total training time: 0.02 seconds.\n",
      "-- Epoch 3\n",
      "Norm: 6.77, NNZs: 15326, Bias: -0.137217, T: 1167, Avg. loss: 0.002709\n",
      "Total training time: 0.02 seconds.\n",
      "-- Epoch 4\n",
      "Norm: 6.62, NNZs: 17670, Bias: -0.143810, T: 1556, Avg. loss: 0.003194\n",
      "Total training time: 0.02 seconds.\n",
      "-- Epoch 5\n",
      "Norm: 6.27, NNZs: 19196, Bias: -0.143875, T: 1945, Avg. loss: 0.002563\n",
      "Total training time: 0.03 seconds.\n",
      "-- Epoch 1\n",
      "Norm: 9.92, NNZs: 12641, Bias: -0.128191, T: 389, Avg. loss: 0.076859\n",
      "Total training time: 0.00 seconds.\n",
      "-- Epoch 2\n",
      "Norm: 7.44, NNZs: 13998, Bias: -0.141693, T: 778, Avg. loss: 0.005342\n",
      "Total training time: 0.01 seconds.\n",
      "-- Epoch 3\n",
      "Norm: 7.31, NNZs: 16085, Bias: -0.149623, T: 1167, Avg. loss: 0.004831\n",
      "Total training time: 0.01 seconds.\n",
      "-- Epoch 4\n",
      "Norm: 6.66, NNZs: 17811, Bias: -0.162301, T: 1556, Avg. loss: 0.001780\n",
      "Total training time: 0.02 seconds.\n",
      "-- Epoch 5\n",
      "Norm: 6.85, NNZs: 19931, Bias: -0.176507, T: 1945, Avg. loss: 0.003182\n",
      "Total training time: 0.03 seconds.\n"
     ]
    },
    {
     "name": "stderr",
     "output_type": "stream",
     "text": [
      "[Parallel(n_jobs=1)]: Done  12 out of  12 | elapsed:    0.3s finished\n"
     ]
    },
    {
     "data": {
      "text/plain": [
       "Pipeline(memory=None,\n",
       "     steps=[('vect', CountVectorizer(analyzer='word', binary=False, decode_error='strict',\n",
       "        dtype=<class 'numpy.int64'>, encoding='utf-8', input='content',\n",
       "        lowercase=True, max_df=1.0, max_features=None, min_df=1,\n",
       "        ngram_range=(1, 1), preprocessor=None, stop_words='english',\n",
       "        ...ty='l2', power_t=0.5, random_state=42, shuffle=True,\n",
       "       tol=None, verbose=1, warm_start=False))])"
      ]
     },
     "execution_count": 7,
     "metadata": {},
     "output_type": "execute_result"
    }
   ],
   "source": [
    "text_clf.fit(X_train, y_train)\n",
    "\n",
    "#Result shows warning it can be corrected by changing classifier max_iter=5"
   ]
  },
  {
   "cell_type": "code",
   "execution_count": 8,
   "metadata": {},
   "outputs": [],
   "source": [
    "predicted = text_clf.predict(X_test)"
   ]
  },
  {
   "cell_type": "code",
   "execution_count": null,
   "metadata": {},
   "outputs": [],
   "source": [
    "print (np.mean(predicted == y_test))"
   ]
  },
  {
   "cell_type": "code",
   "execution_count": null,
   "metadata": {},
   "outputs": [],
   "source": [
    "text=['hr']\n",
    "prediction=text_clf.predict(text)\n",
    "prediction"
   ]
  },
  {
   "cell_type": "code",
   "execution_count": null,
   "metadata": {},
   "outputs": [],
   "source": [
    "print(metrics.classification_report(y_test, predicted, \n",
    "    target_names=docs_to_train.target_names))"
   ]
  },
  {
   "cell_type": "code",
   "execution_count": null,
   "metadata": {},
   "outputs": [],
   "source": [
    "# docs_to_train.target_names[text_clf.predict([\"Est ce que on a nouveau HR qui va rejoins notre équipe?\"])[0]]"
   ]
  },
  {
   "cell_type": "markdown",
   "metadata": {},
   "source": [
    "# Import the trained Case Classifier Model"
   ]
  },
  {
   "cell_type": "code",
   "execution_count": null,
   "metadata": {},
   "outputs": [],
   "source": [
    "#model ready to deploy  in joblib format \n",
    "from sklearn.externals import joblib\n",
    "joblib.dump(text_clf, 'model.joblib')"
   ]
  },
  {
   "cell_type": "markdown",
   "metadata": {},
   "source": [
    "# HyperParameter Optimization"
   ]
  },
  {
   "cell_type": "code",
   "execution_count": null,
   "metadata": {},
   "outputs": [],
   "source": [
    "\n",
    "from sklearn.model_selection import GridSearchCV\n",
    "parameters = {'vect__ngram_range': [(1, 1), (1, 2)],\n",
    "              'tfidf__use_idf': (True, False),\n",
    "              'clf__alpha': (1e-2, 1e-3),\n",
    "}"
   ]
  },
  {
   "cell_type": "code",
   "execution_count": null,
   "metadata": {},
   "outputs": [],
   "source": [
    "gs_clf = GridSearchCV(text_clf, parameters, cv=2, iid=False, n_jobs=-1)"
   ]
  },
  {
   "cell_type": "code",
   "execution_count": null,
   "metadata": {},
   "outputs": [],
   "source": [
    "gs_clf = gs_clf.fit(docs_to_train.data[:400], docs_to_train.target[:400])"
   ]
  },
  {
   "cell_type": "code",
   "execution_count": null,
   "metadata": {},
   "outputs": [],
   "source": [
    "#Prediction using gs classifier.Grid Search itslf acts like a classifier\n",
    "docs_to_train.target_names[gs_clf.predict(['Est ce que je peux prendre 4 Jours de congés?'])[0]]"
   ]
  },
  {
   "cell_type": "code",
   "execution_count": null,
   "metadata": {},
   "outputs": [],
   "source": [
    "gs_clf.best_score_                                  \n",
    "\n",
    "for param_name in sorted(parameters.keys()):\n",
    "    print(\"%s: %r\" % (param_name, gs_clf.best_params_[param_name]))\n"
   ]
  },
  {
   "cell_type": "markdown",
   "metadata": {},
   "source": [
    "# Plot Confusion Matrix"
   ]
  },
  {
   "cell_type": "code",
   "execution_count": 10,
   "metadata": {},
   "outputs": [
    {
     "data": {
      "text/plain": [
       "<matplotlib.axes._subplots.AxesSubplot at 0x164ad963a58>"
      ]
     },
     "execution_count": 10,
     "metadata": {},
     "output_type": "execute_result"
    },
    {
     "data": {
      "image/png": "[encoded data removed]",
      "text/plain": [
       "<matplotlib.figure.Figure at 0x164ad963240>"
      ]
     },
     "metadata": {},
     "output_type": "display_data"
    }
   ],
   "source": [
    "#Sample Confusion matrix plot\n",
    "import scikitplot as skplt\n",
    "skplt.metrics.plot_confusion_matrix(y_test, predicted, normalize=True)\n",
    "#<matplotlib.axes._subplots.AxesSubplot object at 0x7fe967d64490>\n",
    "#plt.show()"
   ]
  },
  {
   "cell_type": "code",
   "execution_count": 11,
   "metadata": {},
   "outputs": [
    {
     "name": "stdout",
     "output_type": "stream",
     "text": [
      "[[53  0  0  0  0  0  0  0  0  0  0]\n",
      " [ 0 20  0  0  0  0  0  0  0  0  0]\n",
      " [ 0  0  9  0  0  0  0  0  0  0  0]\n",
      " [ 0  0  0 18  0  0  0  0  0  0  0]\n",
      " [ 0  0  0  0  7  0  0  0  0  0  0]\n",
      " [ 0  0  0  0  0  2  0  0  0  0  0]\n",
      " [ 0  0  0  0  0  0  1  0  0  0  0]\n",
      " [ 0  0  0  0  0  0  0 11  0  0  0]\n",
      " [ 0  0  0  0  0  0  0  0 13  0  0]\n",
      " [ 0  0  0  0  0  0  0  0  0  7  0]\n",
      " [ 0  0  0  0  0  0  0  0  0  0 14]]\n"
     ]
    },
    {
     "data": {
      "image/png": "[encoded data removed]",
      "text/plain": [
       "<matplotlib.figure.Figure at 0x164adaece10>"
      ]
     },
     "metadata": {},
     "output_type": "display_data"
    }
   ],
   "source": [
    "from sklearn.metrics import confusion_matrix\n",
    "import matplotlib.pyplot as plt\n",
    "\n",
    "\n",
    "#passed the labels list to the confusion_matrix function to make sure it's properly sorted, matching the ticks.\n",
    "#labels=['ABSENCES','AVANTAGES','DEPART DE ENTREPRISE','OUTILS RH','PAIE, REMUNERATION ET FRAIS PROFESSIONNELS','THEME AUTRE']\n",
    "labels=[0,1,2,3,4,5,6,7,8,9,11]\n",
    "cm = confusion_matrix(y_test, predicted, labels)\n",
    "print(cm)\n",
    "fig = plt.figure()\n",
    "ax = fig.add_subplot(111)\n",
    "cax = ax.matshow(cm)\n",
    "plt.title('Confusion matrix of the Neocase Case classifier')\n",
    "fig.colorbar(cax)\n",
    "ax.set_xticklabels([''] + labels)\n",
    "ax.set_yticklabels([''] + labels)\n",
    "plt.xlabel('Predicted Category')\n",
    "plt.ylabel('True Category')\n",
    "plt.show()"
   ]
  },
  {
   "cell_type": "code",
   "execution_count": null,
   "metadata": {},
   "outputs": [],
   "source": [
    "import scikitplot as skplt\n",
    "skplt.metrics.plot_confusion_matrix(y_test, predicted, normalize=True)\n",
    "#<matplotlib.axes._subplots.AxesSubplot object at 0x7fe967d64490>\n",
    "plt.show()"
   ]
  },
  {
   "cell_type": "markdown",
   "metadata": {},
   "source": [
    "# Plot Case Classification Report Curve"
   ]
  },
  {
   "cell_type": "code",
   "execution_count": null,
   "metadata": {},
   "outputs": [],
   "source": [
    "predicted= predicted.argmax(axis=-1) \n",
    "predicted= predicted.astype('int32')\n",
    "skplt.metrics.plot_precision_recall(y_test, predicted)\n",
    "plt.show()"
   ]
  },
  {
   "cell_type": "markdown",
   "metadata": {},
   "source": [
    "# Case Classifier Confusion Matrix plot "
   ]
  },
  {
   "cell_type": "code",
   "execution_count": null,
   "metadata": {},
   "outputs": [],
   "source": [
    "print(__doc__)\n",
    "\n",
    "import itertools\n",
    "import numpy as np\n",
    "import matplotlib.pyplot as plt\n",
    "\n",
    "from sklearn import svm, datasets\n",
    "\n",
    "from sklearn.metrics import confusion_matrix\n",
    "\n",
    "class_names=docs_to_train .target_names\n",
    "def plot_confusion_matrix(cm, classes,\n",
    "                          normalize=False,\n",
    "                          title='Confusion matrix',\n",
    "                          cmap=plt.cm.Blues):\n",
    "    \"\"\"\n",
    "    This function prints and plots the confusion matrix.\n",
    "    Normalization can be applied by setting `normalize=True`.\n",
    "    \"\"\"\n",
    "    if normalize:\n",
    "        cm = cm.astype('float') / cm.sum(axis=1)[:, np.newaxis]\n",
    "        print(\"Normalized confusion matrix\")\n",
    "    else:\n",
    "        print('Confusion matrix, without normalization')\n",
    "\n",
    "    print(cm)\n",
    "    \n",
    "    fig, ax = plt.subplots()#pplt.subplot(111)\n",
    "    fig.set_size_inches(25.5, 25.5, forward=True)\n",
    "    \n",
    "    plt.imshow(cm, interpolation='nearest', cmap=cmap)\n",
    "    plt.title(title)\n",
    "    plt.colorbar()\n",
    "    tick_marks = np.arange(len(classes))\n",
    "    plt.xticks(tick_marks, classes, rotation=90,fontsize=18)\n",
    "    plt.yticks(tick_marks, classes,fontsize=18)\n",
    "\n",
    "    fmt = '.2f' if normalize else 'd'\n",
    "    thresh = cm.max() / 2.\n",
    "    for i, j in itertools.product(range(cm.shape[0]), range(cm.shape[1])):\n",
    "        plt.text(j, i, format(cm[i, j], fmt),\n",
    "                 horizontalalignment=\"center\",fontsize=20,\n",
    "                 color=\"white\" if cm[i, j] > thresh else \"black\")\n",
    "\n",
    "    plt.ylabel('True Category',fontsize=22,fontweight=\"bold\")\n",
    "    plt.xlabel('Predicted Category',fontsize=22,fontweight=\"bold\")\n",
    "    plt.tight_layout()\n",
    "\n",
    "\n",
    "# Compute confusion matrix\n",
    "cnf_matrix = confusion_matrix(y_test, predicted)\n",
    "np.set_printoptions(precision=2)\n",
    "\n",
    "\n"
   ]
  },
  {
   "cell_type": "code",
   "execution_count": null,
   "metadata": {},
   "outputs": [],
   "source": [
    "# Plot non-normalized confusion matrix\n",
    "plt.figure()\n",
    "plot_confusion_matrix(cnf_matrix, classes=class_names,\n",
    "                      title='Confusion matrix, without normalization')"
   ]
  },
  {
   "cell_type": "code",
   "execution_count": null,
   "metadata": {},
   "outputs": [],
   "source": [
    "# Plot normalized confusion matrix\n",
    "plt.figure()\n",
    "plot_confusion_matrix(cnf_matrix, classes=class_names, normalize=True,\n",
    "                      title='Normalized confusion matrix')\n",
    "\n",
    "plt.show()"
   ]
  },
  {
   "cell_type": "code",
   "execution_count": null,
   "metadata": {},
   "outputs": [],
   "source": []
  }
 ],
 "metadata": {
  "kernelspec": {
   "display_name": "Python 3",
   "language": "python",
   "name": "python3"
  },
  "language_info": {
   "codemirror_mode": {
    "name": "ipython",
    "version": 3
   },
   "file_extension": ".py",
   "mimetype": "text/x-python",
   "name": "python",
   "nbconvert_exporter": "python",
   "pygments_lexer": "ipython3",
   "version": "3.6.4"
  }
 },
 "nbformat": 4,
 "nbformat_minor": 2
}
