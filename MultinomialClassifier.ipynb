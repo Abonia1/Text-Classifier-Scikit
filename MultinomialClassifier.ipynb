{
 "cells": [
  {
   "cell_type": "code",
   "execution_count": 1,
   "metadata": {},
   "outputs": [],
   "source": [
    "import sklearn\n",
    "from sklearn import datasets\n",
    "from sklearn.feature_extraction.text import TfidfVectorizer\n",
    "from sklearn.pipeline import Pipeline\n",
    "from sklearn.linear_model import SGDClassifier\n",
    "from sklearn.naive_bayes import MultinomialNB\n",
    "\n",
    "#categories=['ABSENCES','AVANTAGES',\"DEPART DE L'ENTREPRISE\",'OUTILS RH','PAIE, REMUNERATION ET FRAIS PROFESSIONNELS','THEME AUTRE','DONNEES PERSONNELLES','FORMATION','INTERIM  STAGES  EXTERNES','MUTUELLE  PREVOYANCE','PARCOURS PROFESSIONNEL','TEMPS DE TRAVAIL']\n",
    "#Converting Vectorized label to readable category \n",
    "docs_to_train = sklearn.datasets.load_files(\"document\", \n",
    "            )\n",
    "X=docs_to_train.data\n",
    "y=[docs_to_train .target_names[i] \n",
    "for i in docs_to_train.target]"
   ]
  },
  {
   "cell_type": "code",
   "execution_count": 2,
   "metadata": {},
   "outputs": [
    {
     "name": "stdout",
     "output_type": "stream",
     "text": [
      "\n",
      "Applying the classifier...\n",
      "\n"
     ]
    }
   ],
   "source": [
    "print ('\\nApplying the classifier...\\n')\n",
    "\n",
    "pipeline= Pipeline([\n",
    "\n",
    "                     ('vectorizer', TfidfVectorizer()),\n",
    "\n",
    "                     ('clf', MultinomialNB(0.01)),\n",
    "\n",
    "])\n",
    "text_clf=pipeline.fit(X,y)"
   ]
  },
  {
   "cell_type": "code",
   "execution_count": 3,
   "metadata": {},
   "outputs": [
    {
     "data": {
      "text/plain": [
       "array(['ABSENCES'], dtype='<U42')"
      ]
     },
     "execution_count": 3,
     "metadata": {},
     "output_type": "execute_result"
    }
   ],
   "source": [
    "text_example=['est ce que nouveau HR ']\n",
    "predictions=text_clf.predict(text_example)\n",
    "predictions"
   ]
  },
  {
   "cell_type": "code",
   "execution_count": null,
   "metadata": {},
   "outputs": [],
   "source": []
  }
 ],
 "metadata": {
  "kernelspec": {
   "display_name": "Python 3",
   "language": "python",
   "name": "python3"
  },
  "language_info": {
   "codemirror_mode": {
    "name": "ipython",
    "version": 3
   },
   "file_extension": ".py",
   "mimetype": "text/x-python",
   "name": "python",
   "nbconvert_exporter": "python",
   "pygments_lexer": "ipython3",
   "version": "3.6.4"
  }
 },
 "nbformat": 4,
 "nbformat_minor": 2
}
